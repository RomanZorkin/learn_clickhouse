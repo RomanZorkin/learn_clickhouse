{
 "cells": [
  {
   "cell_type": "code",
   "execution_count": 1,
   "metadata": {},
   "outputs": [],
   "source": [
    "from typing import Any\n",
    "\n",
    "import clickhouse_connect\n",
    "import pandas as pd\n",
    "\n",
    "from service.config import config\n",
    "from service.record import LogRecord\n",
    "from service.geoip import find_location, find_location_2"
   ]
  },
  {
   "attachments": {},
   "cell_type": "markdown",
   "metadata": {},
   "source": [
    "# 1. Подключение к базе данных"
   ]
  },
  {
   "cell_type": "code",
   "execution_count": 2,
   "metadata": {},
   "outputs": [],
   "source": [
    "client = clickhouse_connect.get_client(\n",
    "    host=config['DBHOST'],\n",
    "    username=config['DBUSER'],\n",
    "    password=config['DBPWD'],\n",
    "    port=config['DBPORT'],\n",
    "    database='helloworld',\n",
    ")"
   ]
  },
  {
   "attachments": {},
   "cell_type": "markdown",
   "metadata": {},
   "source": [
    "### 1.1. Пример запроса создания новой таблицы"
   ]
  },
  {
   "cell_type": "code",
   "execution_count": null,
   "metadata": {},
   "outputs": [],
   "source": [
    "client.command(\"\"\"CREATE TABLE helloworld.ip_geo\n",
    "(\n",
    "    ip String,\n",
    "    geo String   \n",
    ")\n",
    "ENGINE = MergeTree()\n",
    "PRIMARY KEY (ip)\n",
    "\"\"\")"
   ]
  },
  {
   "attachments": {},
   "cell_type": "markdown",
   "metadata": {},
   "source": [
    "### 1.2. Пример запроса добавления колонки в созданную ранее таблицу"
   ]
  },
  {
   "cell_type": "code",
   "execution_count": null,
   "metadata": {},
   "outputs": [],
   "source": [
    "client.command('ALTER TABLE helloworld.auth_log ADD COLUMN ip_geo String AFTER ip')"
   ]
  },
  {
   "attachments": {},
   "cell_type": "markdown",
   "metadata": {},
   "source": [
    "### 1.3. Пример запроса для получения наименований столбцов таблицы"
   ]
  },
  {
   "cell_type": "code",
   "execution_count": 3,
   "metadata": {},
   "outputs": [],
   "source": [
    "columns = client.query(\"select column_name from information_schema.columns where table_schema = 'helloworld' order by table_name, ordinal_position\")\n",
    "columns_name = [col[0] for col in columns.result_rows[:9]]"
   ]
  },
  {
   "cell_type": "code",
   "execution_count": 4,
   "metadata": {},
   "outputs": [
    {
     "data": {
      "text/plain": [
       "['rec_date',\n",
       " 'vm',\n",
       " 'auth_service',\n",
       " 'body',\n",
       " 'accept',\n",
       " 'ip',\n",
       " 'ip_geo',\n",
       " 'target_user',\n",
       " 'target_port']"
      ]
     },
     "execution_count": 4,
     "metadata": {},
     "output_type": "execute_result"
    }
   ],
   "source": [
    "columns_name"
   ]
  },
  {
   "attachments": {},
   "cell_type": "markdown",
   "metadata": {},
   "source": [
    "# 2. Заполняем базовую таблицу попыток авторизации"
   ]
  },
  {
   "cell_type": "code",
   "execution_count": null,
   "metadata": {},
   "outputs": [],
   "source": [
    "def get_records(num: int) -> list[list[Any]]: \n",
    "    with open(f'data_auth/auth_{num}.log', 'r') as log:\n",
    "        data = log.readlines()\n",
    "    return [LogRecord(row).to_list() for row in data]\n",
    "\n",
    "for num in range(7):\n",
    "    print(f'read auth_{num}.log file')\n",
    "    records = get_records(num)\n",
    "    print(f'insert auth_{num}.log file')\n",
    "    client.insert('auth_log', records, column_names=columns_name)"
   ]
  },
  {
   "attachments": {},
   "cell_type": "markdown",
   "metadata": {},
   "source": [
    "# 3. Формируем таблицу соответствия ip и страны"
   ]
  },
  {
   "attachments": {},
   "cell_type": "markdown",
   "metadata": {},
   "source": [
    "## 3.1. Запрос к базе на весь перечень ip адресов\n",
    "\n",
    "В данном случае код python по последующей обработке можно было и не применять. Все операции возможно было сделать в запросе к базе (группировка, фильтрация, сортировка)"
   ]
  },
  {
   "cell_type": "code",
   "execution_count": null,
   "metadata": {},
   "outputs": [],
   "source": [
    "ip_adress = client.query(\"SELECT ip FROM auth_log WHERE ip <> ''\")\n",
    "ip_df = pd.DataFrame(ip_adress.result_rows, columns=['ip'])\n",
    "ip_df = ip_df.drop_duplicates()\n",
    "list_ip = [[ip] for ip in ip_df['ip'].to_list()]\n",
    "list_ip.sort()"
   ]
  },
  {
   "attachments": {},
   "cell_type": "markdown",
   "metadata": {},
   "source": [
    "## 3.2. Запись даных ip адресов в таблицу"
   ]
  },
  {
   "cell_type": "code",
   "execution_count": null,
   "metadata": {},
   "outputs": [],
   "source": [
    "client.insert('ip_geo', list_ip, column_names=['ip'])"
   ]
  },
  {
   "attachments": {},
   "cell_type": "markdown",
   "metadata": {},
   "source": [
    "## 3.3 Поиск страны по соответствующему ip и запись в таблицу (в данном случае используем бесплатный ресурс)"
   ]
  },
  {
   "cell_type": "code",
   "execution_count": null,
   "metadata": {},
   "outputs": [],
   "source": [
    "for ip in list_ip:\n",
    "    print(ip[0])\n",
    "    geo = find_location_2(ip[0])\n",
    "    client.query(f\"ALTER TABLE helloworld.ip_geo UPDATE geo='{geo}' where ip='{ip[0]}'\")"
   ]
  },
  {
   "attachments": {},
   "cell_type": "markdown",
   "metadata": {},
   "source": [
    "## 3.4. Используем платный ресурс для записи стран которые не были найдены ранее"
   ]
  },
  {
   "attachments": {},
   "cell_type": "markdown",
   "metadata": {},
   "source": [
    "### 3.4.1 Извлекаем ip с отсутствующими названиями"
   ]
  },
  {
   "cell_type": "code",
   "execution_count": null,
   "metadata": {},
   "outputs": [],
   "source": [
    "not_found = client.query(\"\"\"\n",
    "SELECT table.ip FROM helloworld.ip_geo as table WHERE table.geo = 'Not found'\n",
    "\"\"\")\n",
    "not_found_list = [ip[0] for ip in not_found.result_rows]"
   ]
  },
  {
   "attachments": {},
   "cell_type": "markdown",
   "metadata": {},
   "source": [
    "### 3.4.2. Запускаем платный ресурс для записи"
   ]
  },
  {
   "cell_type": "code",
   "execution_count": null,
   "metadata": {},
   "outputs": [],
   "source": [
    "for ip in not_found_list:\n",
    "    print(ip)\n",
    "    geo = find_location(ip)\n",
    "    geo = geo.replace(\"'\", \"_\")\n",
    "    if geo == 'Côte dIvoire':\n",
    "        geo = 'Cote dIvoire'   \n",
    "    client.query(f\"ALTER TABLE helloworld.ip_geo UPDATE geo='{geo}' where ip='{ip}'\")"
   ]
  },
  {
   "attachments": {},
   "cell_type": "markdown",
   "metadata": {},
   "source": [
    "# 4. Примеры отчетов"
   ]
  },
  {
   "cell_type": "code",
   "execution_count": 53,
   "metadata": {},
   "outputs": [],
   "source": [
    "import matplotlib.pyplot as plt"
   ]
  },
  {
   "cell_type": "code",
   "execution_count": null,
   "metadata": {},
   "outputs": [],
   "source": [
    "table = client.query('SELECT ip, COUNT(vm) as vm_count FROM auth_log WHERE accept=True GROUP BY ip ORDER by vm_count desc')\n",
    "table.result_rows"
   ]
  },
  {
   "cell_type": "code",
   "execution_count": 18,
   "metadata": {},
   "outputs": [],
   "source": [
    "tmp_query = client.query(\"SELECT ipgeo.geo, count(ipgeo.geo) FROM helloworld.auth_log as auth LEFT OUTER JOIN helloworld.ip_geo as ipgeo ON auth.ip = ipgeo.ip WHERE auth.ip <> '' GROUP BY ipgeo.geo ORDER BY count(ipgeo.geo) DESC\")\n",
    "zone_df = pd.DataFrame(tmp_query.result_rows, columns=['country', 'count'])"
   ]
  },
  {
   "cell_type": "code",
   "execution_count": 46,
   "metadata": {},
   "outputs": [],
   "source": [
    "xlabel = zone_df['country'][:10].to_list()\n",
    "ylabel = zone_df['count'][:10].to_list()"
   ]
  },
  {
   "cell_type": "code",
   "execution_count": 52,
   "metadata": {},
   "outputs": [
    {
     "ename": "AttributeError",
     "evalue": "module 'matplotlib' has no attribute 'bar'",
     "output_type": "error",
     "traceback": [
      "\u001b[0;31m---------------------------------------------------------------------------\u001b[0m",
      "\u001b[0;31mAttributeError\u001b[0m                            Traceback (most recent call last)",
      "Cell \u001b[0;32mIn[52], line 1\u001b[0m\n\u001b[0;32m----> 1\u001b[0m plt\u001b[39m.\u001b[39;49mbar(xlabel, ylabel, color \u001b[39m=\u001b[39m\u001b[39m'\u001b[39m\u001b[39mmaroon\u001b[39m\u001b[39m'\u001b[39m,\n\u001b[1;32m      2\u001b[0m         width \u001b[39m=\u001b[39m \u001b[39m0.4\u001b[39m)\n",
      "File \u001b[0;32m~/projects/python/clickhouse_db/.venv/lib/python3.10/site-packages/matplotlib/_api/__init__.py:226\u001b[0m, in \u001b[0;36mcaching_module_getattr.<locals>.__getattr__\u001b[0;34m(name)\u001b[0m\n\u001b[1;32m    224\u001b[0m \u001b[39mif\u001b[39;00m name \u001b[39min\u001b[39;00m props:\n\u001b[1;32m    225\u001b[0m     \u001b[39mreturn\u001b[39;00m props[name]\u001b[39m.\u001b[39m\u001b[39m__get__\u001b[39m(instance)\n\u001b[0;32m--> 226\u001b[0m \u001b[39mraise\u001b[39;00m \u001b[39mAttributeError\u001b[39;00m(\n\u001b[1;32m    227\u001b[0m     \u001b[39mf\u001b[39m\u001b[39m\"\u001b[39m\u001b[39mmodule \u001b[39m\u001b[39m{\u001b[39;00m\u001b[39mcls\u001b[39m\u001b[39m.\u001b[39m\u001b[39m__module__\u001b[39m\u001b[39m!r}\u001b[39;00m\u001b[39m has no attribute \u001b[39m\u001b[39m{\u001b[39;00mname\u001b[39m!r}\u001b[39;00m\u001b[39m\"\u001b[39m)\n",
      "\u001b[0;31mAttributeError\u001b[0m: module 'matplotlib' has no attribute 'bar'"
     ]
    }
   ],
   "source": [
    "plt.bar(xlabel, ylabel, color ='maroon',\n",
    "        width = 0.4)"
   ]
  },
  {
   "cell_type": "code",
   "execution_count": 50,
   "metadata": {},
   "outputs": [
    {
     "ename": "ConversionError",
     "evalue": "Failed to convert value(s) to axis units: ['United States', 'Singapore', 'Germany', 'India', 'Hong Kong', 'Indonesia', 'South Korea', 'United Kingdom', 'Russian Federation', 'Brazil']",
     "output_type": "error",
     "traceback": [
      "\u001b[0;31m---------------------------------------------------------------------------\u001b[0m",
      "\u001b[0;31mValueError\u001b[0m                                Traceback (most recent call last)",
      "File \u001b[0;32m~/projects/python/clickhouse_db/.venv/lib/python3.10/site-packages/matplotlib/axis.py:1732\u001b[0m, in \u001b[0;36mAxis.convert_units\u001b[0;34m(self, x)\u001b[0m\n\u001b[1;32m   1731\u001b[0m \u001b[39mtry\u001b[39;00m:\n\u001b[0;32m-> 1732\u001b[0m     ret \u001b[39m=\u001b[39m \u001b[39mself\u001b[39;49m\u001b[39m.\u001b[39;49mconverter\u001b[39m.\u001b[39;49mconvert(x, \u001b[39mself\u001b[39;49m\u001b[39m.\u001b[39;49munits, \u001b[39mself\u001b[39;49m)\n\u001b[1;32m   1733\u001b[0m \u001b[39mexcept\u001b[39;00m \u001b[39mException\u001b[39;00m \u001b[39mas\u001b[39;00m e:\n",
      "File \u001b[0;32m~/projects/python/clickhouse_db/.venv/lib/python3.10/site-packages/matplotlib/category.py:49\u001b[0m, in \u001b[0;36mStrCategoryConverter.convert\u001b[0;34m(value, unit, axis)\u001b[0m\n\u001b[1;32m     48\u001b[0m \u001b[39mif\u001b[39;00m unit \u001b[39mis\u001b[39;00m \u001b[39mNone\u001b[39;00m:\n\u001b[0;32m---> 49\u001b[0m     \u001b[39mraise\u001b[39;00m \u001b[39mValueError\u001b[39;00m(\n\u001b[1;32m     50\u001b[0m         \u001b[39m'\u001b[39m\u001b[39mMissing category information for StrCategoryConverter; \u001b[39m\u001b[39m'\u001b[39m\n\u001b[1;32m     51\u001b[0m         \u001b[39m'\u001b[39m\u001b[39mthis might be caused by unintendedly mixing categorical and \u001b[39m\u001b[39m'\u001b[39m\n\u001b[1;32m     52\u001b[0m         \u001b[39m'\u001b[39m\u001b[39mnumeric data\u001b[39m\u001b[39m'\u001b[39m)\n\u001b[1;32m     53\u001b[0m StrCategoryConverter\u001b[39m.\u001b[39m_validate_unit(unit)\n",
      "\u001b[0;31mValueError\u001b[0m: Missing category information for StrCategoryConverter; this might be caused by unintendedly mixing categorical and numeric data",
      "\nThe above exception was the direct cause of the following exception:\n",
      "\u001b[0;31mConversionError\u001b[0m                           Traceback (most recent call last)",
      "Cell \u001b[0;32mIn[50], line 1\u001b[0m\n\u001b[0;32m----> 1\u001b[0m zone_df[:\u001b[39m10\u001b[39;49m][[\u001b[39m'\u001b[39;49m\u001b[39mcountry\u001b[39;49m\u001b[39m'\u001b[39;49m, \u001b[39m'\u001b[39;49m\u001b[39mcount\u001b[39;49m\u001b[39m'\u001b[39;49m]]\u001b[39m.\u001b[39;49mplot\u001b[39m.\u001b[39;49mbar(title\u001b[39m=\u001b[39;49m\u001b[39m'\u001b[39;49m\u001b[39mРаспределение интенсивности запросов в зависимости от\u001b[39;49m\u001b[39m\\n\u001b[39;49;00m\u001b[39m географической зоны\u001b[39;49m\u001b[39m'\u001b[39;49m, xticks\u001b[39m=\u001b[39;49m(xlabel))\n",
      "File \u001b[0;32m~/projects/python/clickhouse_db/.venv/lib/python3.10/site-packages/pandas/plotting/_core.py:1136\u001b[0m, in \u001b[0;36mPlotAccessor.bar\u001b[0;34m(self, x, y, **kwargs)\u001b[0m\n\u001b[1;32m   1046\u001b[0m \u001b[39m@Appender\u001b[39m(\n\u001b[1;32m   1047\u001b[0m \u001b[39m    \u001b[39m\u001b[39m\"\"\"\u001b[39;00m\n\u001b[1;32m   1048\u001b[0m \u001b[39m    See Also\u001b[39;00m\n\u001b[0;32m   (...)\u001b[0m\n\u001b[1;32m   1125\u001b[0m     \u001b[39mself\u001b[39m, x\u001b[39m=\u001b[39m\u001b[39mNone\u001b[39;00m, y\u001b[39m=\u001b[39m\u001b[39mNone\u001b[39;00m, \u001b[39m*\u001b[39m\u001b[39m*\u001b[39mkwargs\n\u001b[1;32m   1126\u001b[0m ) \u001b[39m-\u001b[39m\u001b[39m>\u001b[39m PlotAccessor:\n\u001b[1;32m   1127\u001b[0m \u001b[39m    \u001b[39m\u001b[39m\"\"\"\u001b[39;00m\n\u001b[1;32m   1128\u001b[0m \u001b[39m    Vertical bar plot.\u001b[39;00m\n\u001b[1;32m   1129\u001b[0m \n\u001b[0;32m   (...)\u001b[0m\n\u001b[1;32m   1134\u001b[0m \u001b[39m    other axis represents a measured value.\u001b[39;00m\n\u001b[1;32m   1135\u001b[0m \u001b[39m    \"\"\"\u001b[39;00m\n\u001b[0;32m-> 1136\u001b[0m     \u001b[39mreturn\u001b[39;00m \u001b[39mself\u001b[39;49m(kind\u001b[39m=\u001b[39;49m\u001b[39m\"\u001b[39;49m\u001b[39mbar\u001b[39;49m\u001b[39m\"\u001b[39;49m, x\u001b[39m=\u001b[39;49mx, y\u001b[39m=\u001b[39;49my, \u001b[39m*\u001b[39;49m\u001b[39m*\u001b[39;49mkwargs)\n",
      "File \u001b[0;32m~/projects/python/clickhouse_db/.venv/lib/python3.10/site-packages/pandas/plotting/_core.py:975\u001b[0m, in \u001b[0;36mPlotAccessor.__call__\u001b[0;34m(self, *args, **kwargs)\u001b[0m\n\u001b[1;32m    972\u001b[0m             label_name \u001b[39m=\u001b[39m label_kw \u001b[39mor\u001b[39;00m data\u001b[39m.\u001b[39mcolumns\n\u001b[1;32m    973\u001b[0m             data\u001b[39m.\u001b[39mcolumns \u001b[39m=\u001b[39m label_name\n\u001b[0;32m--> 975\u001b[0m \u001b[39mreturn\u001b[39;00m plot_backend\u001b[39m.\u001b[39;49mplot(data, kind\u001b[39m=\u001b[39;49mkind, \u001b[39m*\u001b[39;49m\u001b[39m*\u001b[39;49mkwargs)\n",
      "File \u001b[0;32m~/projects/python/clickhouse_db/.venv/lib/python3.10/site-packages/pandas/plotting/_matplotlib/__init__.py:71\u001b[0m, in \u001b[0;36mplot\u001b[0;34m(data, kind, **kwargs)\u001b[0m\n\u001b[1;32m     69\u001b[0m         kwargs[\u001b[39m\"\u001b[39m\u001b[39max\u001b[39m\u001b[39m\"\u001b[39m] \u001b[39m=\u001b[39m \u001b[39mgetattr\u001b[39m(ax, \u001b[39m\"\u001b[39m\u001b[39mleft_ax\u001b[39m\u001b[39m\"\u001b[39m, ax)\n\u001b[1;32m     70\u001b[0m plot_obj \u001b[39m=\u001b[39m PLOT_CLASSES[kind](data, \u001b[39m*\u001b[39m\u001b[39m*\u001b[39mkwargs)\n\u001b[0;32m---> 71\u001b[0m plot_obj\u001b[39m.\u001b[39;49mgenerate()\n\u001b[1;32m     72\u001b[0m plot_obj\u001b[39m.\u001b[39mdraw()\n\u001b[1;32m     73\u001b[0m \u001b[39mreturn\u001b[39;00m plot_obj\u001b[39m.\u001b[39mresult\n",
      "File \u001b[0;32m~/projects/python/clickhouse_db/.venv/lib/python3.10/site-packages/pandas/plotting/_matplotlib/core.py:451\u001b[0m, in \u001b[0;36mMPLPlot.generate\u001b[0;34m(self)\u001b[0m\n\u001b[1;32m    449\u001b[0m \u001b[39mself\u001b[39m\u001b[39m.\u001b[39m_add_table()\n\u001b[1;32m    450\u001b[0m \u001b[39mself\u001b[39m\u001b[39m.\u001b[39m_make_legend()\n\u001b[0;32m--> 451\u001b[0m \u001b[39mself\u001b[39;49m\u001b[39m.\u001b[39;49m_adorn_subplots()\n\u001b[1;32m    453\u001b[0m \u001b[39mfor\u001b[39;00m ax \u001b[39min\u001b[39;00m \u001b[39mself\u001b[39m\u001b[39m.\u001b[39maxes:\n\u001b[1;32m    454\u001b[0m     \u001b[39mself\u001b[39m\u001b[39m.\u001b[39m_post_plot_logic_common(ax, \u001b[39mself\u001b[39m\u001b[39m.\u001b[39mdata)\n",
      "File \u001b[0;32m~/projects/python/clickhouse_db/.venv/lib/python3.10/site-packages/pandas/plotting/_matplotlib/core.py:692\u001b[0m, in \u001b[0;36mMPLPlot._adorn_subplots\u001b[0;34m(self)\u001b[0m\n\u001b[1;32m    689\u001b[0m     ax\u001b[39m.\u001b[39mset_yticks(\u001b[39mself\u001b[39m\u001b[39m.\u001b[39myticks)\n\u001b[1;32m    691\u001b[0m \u001b[39mif\u001b[39;00m \u001b[39mself\u001b[39m\u001b[39m.\u001b[39mxticks \u001b[39mis\u001b[39;00m \u001b[39mnot\u001b[39;00m \u001b[39mNone\u001b[39;00m:\n\u001b[0;32m--> 692\u001b[0m     ax\u001b[39m.\u001b[39;49mset_xticks(\u001b[39mself\u001b[39;49m\u001b[39m.\u001b[39;49mxticks)\n\u001b[1;32m    694\u001b[0m \u001b[39mif\u001b[39;00m \u001b[39mself\u001b[39m\u001b[39m.\u001b[39mylim \u001b[39mis\u001b[39;00m \u001b[39mnot\u001b[39;00m \u001b[39mNone\u001b[39;00m:\n\u001b[1;32m    695\u001b[0m     ax\u001b[39m.\u001b[39mset_ylim(\u001b[39mself\u001b[39m\u001b[39m.\u001b[39mylim)\n",
      "File \u001b[0;32m~/projects/python/clickhouse_db/.venv/lib/python3.10/site-packages/matplotlib/axes/_base.py:74\u001b[0m, in \u001b[0;36m_axis_method_wrapper.__set_name__.<locals>.wrapper\u001b[0;34m(self, *args, **kwargs)\u001b[0m\n\u001b[1;32m     73\u001b[0m \u001b[39mdef\u001b[39;00m \u001b[39mwrapper\u001b[39m(\u001b[39mself\u001b[39m, \u001b[39m*\u001b[39margs, \u001b[39m*\u001b[39m\u001b[39m*\u001b[39mkwargs):\n\u001b[0;32m---> 74\u001b[0m     \u001b[39mreturn\u001b[39;00m get_method(\u001b[39mself\u001b[39;49m)(\u001b[39m*\u001b[39;49margs, \u001b[39m*\u001b[39;49m\u001b[39m*\u001b[39;49mkwargs)\n",
      "File \u001b[0;32m~/projects/python/clickhouse_db/.venv/lib/python3.10/site-packages/matplotlib/axis.py:2074\u001b[0m, in \u001b[0;36mAxis.set_ticks\u001b[0;34m(self, ticks, labels, minor, **kwargs)\u001b[0m\n\u001b[1;32m   2071\u001b[0m \u001b[39mif\u001b[39;00m labels \u001b[39mis\u001b[39;00m \u001b[39mNone\u001b[39;00m \u001b[39mand\u001b[39;00m kwargs:\n\u001b[1;32m   2072\u001b[0m     \u001b[39mraise\u001b[39;00m \u001b[39mValueError\u001b[39;00m(\u001b[39m'\u001b[39m\u001b[39mlabels argument cannot be None when \u001b[39m\u001b[39m'\u001b[39m\n\u001b[1;32m   2073\u001b[0m                      \u001b[39m'\u001b[39m\u001b[39mkwargs are passed\u001b[39m\u001b[39m'\u001b[39m)\n\u001b[0;32m-> 2074\u001b[0m result \u001b[39m=\u001b[39m \u001b[39mself\u001b[39;49m\u001b[39m.\u001b[39;49m_set_tick_locations(ticks, minor\u001b[39m=\u001b[39;49mminor)\n\u001b[1;32m   2075\u001b[0m \u001b[39mif\u001b[39;00m labels \u001b[39mis\u001b[39;00m \u001b[39mnot\u001b[39;00m \u001b[39mNone\u001b[39;00m:\n\u001b[1;32m   2076\u001b[0m     \u001b[39mself\u001b[39m\u001b[39m.\u001b[39mset_ticklabels(labels, minor\u001b[39m=\u001b[39mminor, \u001b[39m*\u001b[39m\u001b[39m*\u001b[39mkwargs)\n",
      "File \u001b[0;32m~/projects/python/clickhouse_db/.venv/lib/python3.10/site-packages/matplotlib/axis.py:2014\u001b[0m, in \u001b[0;36mAxis._set_tick_locations\u001b[0;34m(self, ticks, minor)\u001b[0m\n\u001b[1;32m   2010\u001b[0m \u001b[39mdef\u001b[39;00m \u001b[39m_set_tick_locations\u001b[39m(\u001b[39mself\u001b[39m, ticks, \u001b[39m*\u001b[39m, minor\u001b[39m=\u001b[39m\u001b[39mFalse\u001b[39;00m):\n\u001b[1;32m   2011\u001b[0m     \u001b[39m# see docstring of set_ticks\u001b[39;00m\n\u001b[1;32m   2012\u001b[0m \n\u001b[1;32m   2013\u001b[0m     \u001b[39m# XXX if the user changes units, the information will be lost here\u001b[39;00m\n\u001b[0;32m-> 2014\u001b[0m     ticks \u001b[39m=\u001b[39m \u001b[39mself\u001b[39;49m\u001b[39m.\u001b[39;49mconvert_units(ticks)\n\u001b[1;32m   2015\u001b[0m     locator \u001b[39m=\u001b[39m mticker\u001b[39m.\u001b[39mFixedLocator(ticks)  \u001b[39m# validate ticks early.\u001b[39;00m\n\u001b[1;32m   2016\u001b[0m     \u001b[39mfor\u001b[39;00m name, axis \u001b[39min\u001b[39;00m \u001b[39mself\u001b[39m\u001b[39m.\u001b[39maxes\u001b[39m.\u001b[39m_axis_map\u001b[39m.\u001b[39mitems():\n",
      "File \u001b[0;32m~/projects/python/clickhouse_db/.venv/lib/python3.10/site-packages/matplotlib/axis.py:1734\u001b[0m, in \u001b[0;36mAxis.convert_units\u001b[0;34m(self, x)\u001b[0m\n\u001b[1;32m   1732\u001b[0m     ret \u001b[39m=\u001b[39m \u001b[39mself\u001b[39m\u001b[39m.\u001b[39mconverter\u001b[39m.\u001b[39mconvert(x, \u001b[39mself\u001b[39m\u001b[39m.\u001b[39munits, \u001b[39mself\u001b[39m)\n\u001b[1;32m   1733\u001b[0m \u001b[39mexcept\u001b[39;00m \u001b[39mException\u001b[39;00m \u001b[39mas\u001b[39;00m e:\n\u001b[0;32m-> 1734\u001b[0m     \u001b[39mraise\u001b[39;00m munits\u001b[39m.\u001b[39mConversionError(\u001b[39m'\u001b[39m\u001b[39mFailed to convert value(s) to axis \u001b[39m\u001b[39m'\u001b[39m\n\u001b[1;32m   1735\u001b[0m                                  \u001b[39mf\u001b[39m\u001b[39m'\u001b[39m\u001b[39munits: \u001b[39m\u001b[39m{\u001b[39;00mx\u001b[39m!r}\u001b[39;00m\u001b[39m'\u001b[39m) \u001b[39mfrom\u001b[39;00m \u001b[39me\u001b[39;00m\n\u001b[1;32m   1736\u001b[0m \u001b[39mreturn\u001b[39;00m ret\n",
      "\u001b[0;31mConversionError\u001b[0m: Failed to convert value(s) to axis units: ['United States', 'Singapore', 'Germany', 'India', 'Hong Kong', 'Indonesia', 'South Korea', 'United Kingdom', 'Russian Federation', 'Brazil']"
     ]
    },
    {
     "data": {
      "image/png": "[encoded data removed]",
      "text/plain": [
       "<Figure size 640x480 with 1 Axes>"
      ]
     },
     "metadata": {},
     "output_type": "display_data"
    }
   ],
   "source": [
    "zone_df[:10][['country', 'count']].plot.bar(title='Распределение интенсивности запросов в зависимости от\\n географической зоны', xticks=(xlabel))"
   ]
  },
  {
   "cell_type": "code",
   "execution_count": 8,
   "metadata": {},
   "outputs": [
    {
     "data": {
      "text/plain": [
       "[('ip', 0, 'String', None), ('geo', 0, 'String', None)]"
      ]
     },
     "execution_count": 8,
     "metadata": {},
     "output_type": "execute_result"
    }
   ],
   "source": [
    "join_query = client.query(\"SELECT COLUMN_NAME, IS_NULLABLE, DATA_TYPE, CHARACTER_MAXIMUM_LENGTH FROM information_schema.columns WHERE table_name = 'ip_geo'\")\n",
    "join_query.result_rows"
   ]
  },
  {
   "cell_type": "code",
   "execution_count": 9,
   "metadata": {},
   "outputs": [
    {
     "data": {
      "text/html": [
       "<div>\n",
       "<style scoped>\n",
       "    .dataframe tbody tr th:only-of-type {\n",
       "        vertical-align: middle;\n",
       "    }\n",
       "\n",
       "    .dataframe tbody tr th {\n",
       "        vertical-align: top;\n",
       "    }\n",
       "\n",
       "    .dataframe thead th {\n",
       "        text-align: right;\n",
       "    }\n",
       "</style>\n",
       "<table border=\"1\" class=\"dataframe\">\n",
       "  <thead>\n",
       "    <tr style=\"text-align: right;\">\n",
       "      <th></th>\n",
       "      <th>0</th>\n",
       "      <th>2</th>\n",
       "    </tr>\n",
       "  </thead>\n",
       "  <tbody>\n",
       "    <tr>\n",
       "      <th>0</th>\n",
       "      <td>ip</td>\n",
       "      <td>String</td>\n",
       "    </tr>\n",
       "    <tr>\n",
       "      <th>1</th>\n",
       "      <td>geo</td>\n",
       "      <td>String</td>\n",
       "    </tr>\n",
       "  </tbody>\n",
       "</table>\n",
       "</div>"
      ],
      "text/plain": [
       "     0       2\n",
       "0   ip  String\n",
       "1  geo  String"
      ]
     },
     "execution_count": 9,
     "metadata": {},
     "output_type": "execute_result"
    }
   ],
   "source": [
    "pd.DataFrame(join_query.result_rows)[[0,2]]"
   ]
  },
  {
   "cell_type": "code",
   "execution_count": null,
   "metadata": {},
   "outputs": [],
   "source": [
    "client.query('TRUNCATE TABLE ip_geo')"
   ]
  }
 ],
 "metadata": {
  "kernelspec": {
   "display_name": ".venv",
   "language": "python",
   "name": "python3"
  },
  "language_info": {
   "codemirror_mode": {
    "name": "ipython",
    "version": 3
   },
   "file_extension": ".py",
   "mimetype": "text/x-python",
   "name": "python",
   "nbconvert_exporter": "python",
   "pygments_lexer": "ipython3",
   "version": "3.10.0"
  },
  "orig_nbformat": 4
 },
 "nbformat": 4,
 "nbformat_minor": 2
}
