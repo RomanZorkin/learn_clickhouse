{
 "cells": [
  {
   "cell_type": "code",
   "execution_count": 1,
   "metadata": {},
   "outputs": [],
   "source": [
    "from typing import Any\n",
    "\n",
    "import clickhouse_connect\n",
    "import pandas as pd\n",
    "\n",
    "from service.config import config\n",
    "from service.record import LogRecord\n",
    "from service.geoip import find_location, find_location_2"
   ]
  },
  {
   "attachments": {},
   "cell_type": "markdown",
   "metadata": {},
   "source": [
    "# 1. Подключение к базе данных"
   ]
  },
  {
   "cell_type": "code",
   "execution_count": 3,
   "metadata": {},
   "outputs": [],
   "source": [
    "client = clickhouse_connect.get_client(\n",
    "    host=config['DBHOST'],\n",
    "    username=config['DBUSER'],\n",
    "    password=config['DBPWD'],\n",
    "    port=config['DBPORT'],\n",
    "    database='helloworld',\n",
    ")"
   ]
  },
  {
   "attachments": {},
   "cell_type": "markdown",
   "metadata": {},
   "source": [
    "### 1.1. Пример запроса создания новой таблицы"
   ]
  },
  {
   "cell_type": "code",
   "execution_count": null,
   "metadata": {},
   "outputs": [],
   "source": [
    "client.command(\"\"\"CREATE TABLE helloworld.ip_geo\n",
    "(\n",
    "    ip String,\n",
    "    geo String   \n",
    ")\n",
    "ENGINE = MergeTree()\n",
    "PRIMARY KEY (ip)\n",
    "\"\"\")"
   ]
  },
  {
   "attachments": {},
   "cell_type": "markdown",
   "metadata": {},
   "source": [
    "### 1.2. Пример запроса добавления колонки в созданную ранее таблицу"
   ]
  },
  {
   "cell_type": "code",
   "execution_count": null,
   "metadata": {},
   "outputs": [],
   "source": [
    "client.command('ALTER TABLE helloworld.auth_log ADD COLUMN ip_geo String AFTER ip')"
   ]
  },
  {
   "attachments": {},
   "cell_type": "markdown",
   "metadata": {},
   "source": [
    "### 1.3. Пример запроса для получения наименований столбцов таблицы"
   ]
  },
  {
   "cell_type": "code",
   "execution_count": null,
   "metadata": {},
   "outputs": [],
   "source": [
    "columns = client.query(\"select column_name from information_schema.columns where table_schema = 'helloworld' order by table_name, ordinal_position\")\n",
    "columns_name = [col[0] for col in columns.result_rows[:9]]"
   ]
  },
  {
   "attachments": {},
   "cell_type": "markdown",
   "metadata": {},
   "source": [
    "# 2. Заполняем базовую таблицу попыток авторизации"
   ]
  },
  {
   "cell_type": "code",
   "execution_count": null,
   "metadata": {},
   "outputs": [],
   "source": [
    "def get_records(num: int) -> list[list[Any]]: \n",
    "    with open(f'data_auth/auth_{num}.log', 'r') as log:\n",
    "        data = log.readlines()\n",
    "    return [LogRecord(row).to_list() for row in data]\n",
    "\n",
    "for num in range(7):\n",
    "    print(f'read auth_{num}.log file')\n",
    "    records = get_records(num)\n",
    "    print(f'insert auth_{num}.log file')\n",
    "    client.insert('auth_log', records, column_names=columns_name)"
   ]
  },
  {
   "attachments": {},
   "cell_type": "markdown",
   "metadata": {},
   "source": [
    "# 3. Формируем таблицу соответствия ip и страны"
   ]
  },
  {
   "attachments": {},
   "cell_type": "markdown",
   "metadata": {},
   "source": [
    "## 3.1. Запрос к базе на весь перечень ip адресов\n",
    "\n",
    "В данном случае код python по последующей обработке можно было и не применять. Все операции возможно было сделать в запросе к базе (группировка, фильтрация, сортировка)"
   ]
  },
  {
   "cell_type": "code",
   "execution_count": 53,
   "metadata": {},
   "outputs": [],
   "source": [
    "ip_adress = client.query(\"SELECT ip FROM auth_log WHERE ip <> ''\")\n",
    "ip_df = pd.DataFrame(ip_adress.result_rows, columns=['ip'])\n",
    "ip_df = ip_df.drop_duplicates()\n",
    "list_ip = [[ip] for ip in ip_df['ip'].to_list()]\n",
    "list_ip.sort()"
   ]
  },
  {
   "attachments": {},
   "cell_type": "markdown",
   "metadata": {},
   "source": [
    "## 3.2. Запись даных ip адресов в таблицу"
   ]
  },
  {
   "cell_type": "code",
   "execution_count": 11,
   "metadata": {},
   "outputs": [],
   "source": [
    "client.insert('ip_geo', list_ip, column_names=['ip'])"
   ]
  },
  {
   "attachments": {},
   "cell_type": "markdown",
   "metadata": {},
   "source": [
    "## 3.3 Поиск страны по соответствующему ip и запись в таблицу (в данном случае используем бесплатный ресурс)"
   ]
  },
  {
   "cell_type": "code",
   "execution_count": null,
   "metadata": {},
   "outputs": [],
   "source": [
    "for ip in list_ip:\n",
    "    print(ip[0])\n",
    "    geo = find_location_2(ip[0])\n",
    "    client.query(f\"ALTER TABLE helloworld.ip_geo UPDATE geo='{geo}' where ip='{ip[0]}'\")"
   ]
  },
  {
   "attachments": {},
   "cell_type": "markdown",
   "metadata": {},
   "source": [
    "## 3.4. Используем платный ресурс для записи стран которые не были найдены ранее"
   ]
  },
  {
   "attachments": {},
   "cell_type": "markdown",
   "metadata": {},
   "source": [
    "### 3.4.1 Извлекаем ip с отсутствующими названиями"
   ]
  },
  {
   "cell_type": "code",
   "execution_count": 12,
   "metadata": {},
   "outputs": [],
   "source": [
    "not_found = client.query(\"\"\"\n",
    "SELECT table.ip FROM helloworld.ip_geo as table WHERE table.geo = 'Not found'\n",
    "\"\"\")\n",
    "not_found_list = [ip[0] for ip in not_found.result_rows]"
   ]
  },
  {
   "attachments": {},
   "cell_type": "markdown",
   "metadata": {},
   "source": [
    "### 3.4.2. Запускаем платный ресурс для записи"
   ]
  },
  {
   "cell_type": "code",
   "execution_count": null,
   "metadata": {},
   "outputs": [],
   "source": [
    "for ip in not_found_list:\n",
    "    print(ip)\n",
    "    geo = find_location(ip)\n",
    "    geo = geo.replace(\"'\", \"_\")\n",
    "    if geo == 'Côte dIvoire':\n",
    "        geo = 'Cote dIvoire'   \n",
    "    client.query(f\"ALTER TABLE helloworld.ip_geo UPDATE geo='{geo}' where ip='{ip}'\")"
   ]
  },
  {
   "attachments": {},
   "cell_type": "markdown",
   "metadata": {},
   "source": [
    "# 4. Примеры отчетов"
   ]
  },
  {
   "cell_type": "code",
   "execution_count": null,
   "metadata": {},
   "outputs": [],
   "source": [
    "table = client.query('SELECT ip, COUNT(vm) as vm_count FROM auth_log WHERE accept=True GROUP BY ip ORDER by vm_count desc')\n",
    "table.result_rows"
   ]
  },
  {
   "cell_type": "code",
   "execution_count": null,
   "metadata": {},
   "outputs": [],
   "source": [
    "join_query = client.query(\"SELECT ipgeo.geo, count(ipgeo.geo) FROM helloworld.auth_log as auth LEFT OUTER JOIN helloworld.ip_geo as ipgeo ON auth.ip = ipgeo.ip WHERE auth.ip <> '' GROUP BY ipgeo.geo ORDER BY count(ipgeo.geo) DESC\")\n",
    "join_query.result_rows"
   ]
  },
  {
   "cell_type": "code",
   "execution_count": 9,
   "metadata": {},
   "outputs": [
    {
     "data": {
      "text/plain": [
       "<clickhouse_connect.driver.query.QueryResult at 0x7fa84cb356f0>"
      ]
     },
     "execution_count": 9,
     "metadata": {},
     "output_type": "execute_result"
    }
   ],
   "source": [
    "client.query('TRUNCATE TABLE ip_geo')"
   ]
  }
 ],
 "metadata": {
  "kernelspec": {
   "display_name": ".venv",
   "language": "python",
   "name": "python3"
  },
  "language_info": {
   "codemirror_mode": {
    "name": "ipython",
    "version": 3
   },
   "file_extension": ".py",
   "mimetype": "text/x-python",
   "name": "python",
   "nbconvert_exporter": "python",
   "pygments_lexer": "ipython3",
   "version": "3.10.0"
  },
  "orig_nbformat": 4
 },
 "nbformat": 4,
 "nbformat_minor": 2
}
