{
 "cells": [
  {
   "cell_type": "code",
   "execution_count": 1,
   "metadata": {},
   "outputs": [],
   "source": [
    "from pathlib import Path\n",
    "\n",
    "import sh\n",
    "from sh import cp, gunzip, mkdir, rm\n",
    "\n",
    "from service.config import config"
   ]
  },
  {
   "attachments": {},
   "cell_type": "markdown",
   "metadata": {},
   "source": [
    "# Будте внимательны этот код используется только в учебных целях\n",
    "\n",
    "### Код представленный ниже может представлять угрозу безопасности Ваших файлов и устройств. В случае утечки пароля суперпользователя вашего сервера могут наступить необратимые последствия. Он может быть использован третьими лицами в своих целях. Вы можете потерять все данные. Могут возникнуть иные нежелательные последствия. "
   ]
  },
  {
   "cell_type": "code",
   "execution_count": 2,
   "metadata": {},
   "outputs": [],
   "source": [
    "# пароль суперпользователя храниться в файле .env в корне проекта и загружается через модуль config\n",
    "\n",
    "my_password = config['PWD']+ '\\n'\n",
    "my_sudo = sh.sudo.bake(\"-S\", _in=my_password)"
   ]
  },
  {
   "attachments": {},
   "cell_type": "markdown",
   "metadata": {},
   "source": [
    "## 2. Подготовим список лог фалов авторизации для обработки"
   ]
  },
  {
   "cell_type": "code",
   "execution_count": 3,
   "metadata": {},
   "outputs": [
    {
     "data": {
      "text/plain": [
       "['auth.log',\n",
       " 'auth.log.1',\n",
       " 'auth.log.2.gz',\n",
       " 'auth.log.3.gz',\n",
       " 'auth.log.4.gz',\n",
       " 'auth.log.save',\n",
       " 'auth.log.save.1']"
      ]
     },
     "execution_count": 3,
     "metadata": {},
     "output_type": "execute_result"
    }
   ],
   "source": [
    "log_files = [log_file for log_file in my_sudo.ls('/var/log').split() if 'auth.log' in log_file]\n",
    "log_files"
   ]
  },
  {
   "attachments": {},
   "cell_type": "markdown",
   "metadata": {},
   "source": [
    "## 3. Скопируем файлы в дирректорию data_auth"
   ]
  },
  {
   "cell_type": "code",
   "execution_count": 4,
   "metadata": {},
   "outputs": [],
   "source": [
    "mkdir('data_auth/tmp')\n",
    "\n",
    "for file_name in log_files:\n",
    "    my_sudo.cp(f'/var/log/{file_name}', f'data_auth/tmp/{file_name}')\n",
    "    my_sudo('/bin/chmod', '777', f'data_auth/tmp/{file_name}')"
   ]
  },
  {
   "attachments": {},
   "cell_type": "markdown",
   "metadata": {},
   "source": [
    "## 4. Разархивируем файлы с расширением gz и обновим список имен"
   ]
  },
  {
   "cell_type": "code",
   "execution_count": 5,
   "metadata": {},
   "outputs": [
    {
     "data": {
      "text/plain": [
       "['auth.log',\n",
       " 'auth.log.1',\n",
       " 'auth.log.2',\n",
       " 'auth.log.3',\n",
       " 'auth.log.4',\n",
       " 'auth.log.save',\n",
       " 'auth.log.save.1']"
      ]
     },
     "execution_count": 5,
     "metadata": {},
     "output_type": "execute_result"
    }
   ],
   "source": [
    "for file_name in log_files:\n",
    "    if 'gz' not in file_name:\n",
    "        continue   \n",
    "    gunzip(f'data_auth/tmp/{file_name}')   \n",
    "\n",
    "log_files = [file_name.replace('.gz', '') for file_name in log_files]\n",
    "log_files"
   ]
  },
  {
   "attachments": {},
   "cell_type": "markdown",
   "metadata": {},
   "source": [
    "## 5. Преобразуем имена всех файлов"
   ]
  },
  {
   "cell_type": "code",
   "execution_count": 6,
   "metadata": {},
   "outputs": [
    {
     "name": "stdout",
     "output_type": "stream",
     "text": [
      "auth.log.save\n",
      "auth.log.save.1\n"
     ]
    }
   ],
   "source": [
    "for num, file_name in enumerate(log_files):\n",
    "    if 'save' in file_name:\n",
    "        print(file_name)\n",
    "        cp(f'data_auth/tmp/{file_name}', f'data_auth/auth_{num}.log')\n",
    "        rm(f'data_auth/tmp/{file_name}')\n",
    "        continue\n",
    "    words = file_name.split('.')    \n",
    "    if len(words) < 3:\n",
    "        new_name = 'auth_0.log'\n",
    "    else:\n",
    "        new_name = f'{words[0]}_{words[2]}.{words[1]}'    \n",
    "    cp(f'data_auth/tmp/{file_name}', f'data_auth/{new_name}')\n",
    "    rm(f'data_auth/tmp/{file_name}')\n"
   ]
  },
  {
   "attachments": {},
   "cell_type": "markdown",
   "metadata": {},
   "source": [
    "## 6. Удалим временную папку"
   ]
  },
  {
   "cell_type": "code",
   "execution_count": 8,
   "metadata": {},
   "outputs": [
    {
     "data": {
      "text/plain": [
       "''"
      ]
     },
     "execution_count": 8,
     "metadata": {},
     "output_type": "execute_result"
    }
   ],
   "source": [
    "rm('-R', 'data_auth/tmp')"
   ]
  },
  {
   "attachments": {},
   "cell_type": "markdown",
   "metadata": {},
   "source": [
    "## 7. Посмотрим список полученных файлов "
   ]
  },
  {
   "cell_type": "code",
   "execution_count": 10,
   "metadata": {},
   "outputs": [
    {
     "data": {
      "text/plain": [
       "[PosixPath('data_auth/auth_1.log'),\n",
       " PosixPath('data_auth/auth_5.log'),\n",
       " PosixPath('data_auth/auth_0.log'),\n",
       " PosixPath('data_auth/auth_2.log'),\n",
       " PosixPath('data_auth/auth_3.log'),\n",
       " PosixPath('data_auth/auth_4.log'),\n",
       " PosixPath('data_auth/auth_6.log')]"
      ]
     },
     "execution_count": 10,
     "metadata": {},
     "output_type": "execute_result"
    }
   ],
   "source": [
    "list(Path('data_auth').glob('*.*'))"
   ]
  }
 ],
 "metadata": {
  "kernelspec": {
   "display_name": ".venv",
   "language": "python",
   "name": "python3"
  },
  "language_info": {
   "codemirror_mode": {
    "name": "ipython",
    "version": 3
   },
   "file_extension": ".py",
   "mimetype": "text/x-python",
   "name": "python",
   "nbconvert_exporter": "python",
   "pygments_lexer": "ipython3",
   "version": "3.10.0"
  },
  "orig_nbformat": 4
 },
 "nbformat": 4,
 "nbformat_minor": 2
}
